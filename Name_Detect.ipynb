{
  "nbformat": 4,
  "nbformat_minor": 0,
  "metadata": {
    "colab": {
      "name": "Name Detect.ipynb",
      "provenance": [],
      "collapsed_sections": []
    },
    "kernelspec": {
      "name": "python3",
      "display_name": "Python 3"
    },
    "language_info": {
      "name": "python"
    }
  },
  "cells": [
    {
      "cell_type": "code",
      "metadata": {
        "colab": {
          "base_uri": "https://localhost:8080/"
        },
        "id": "Yd92dlvis2kX",
        "outputId": "212bb75e-f887-4b98-c25a-09abc0eb1b04"
      },
      "source": [
        "from google.colab import drive\n",
        "drive.mount('/content/drive')"
      ],
      "execution_count": null,
      "outputs": [
        {
          "output_type": "stream",
          "text": [
            "Drive already mounted at /content/drive; to attempt to forcibly remount, call drive.mount(\"/content/drive\", force_remount=True).\n"
          ],
          "name": "stdout"
        }
      ]
    },
    {
      "cell_type": "code",
      "metadata": {
        "id": "DOrZTdsWs5Nk"
      },
      "source": [
        "import os\n",
        "path = '/content/drive/My Drive/'\n",
        "path_dataset = os.path.join(path, \"dataset\")"
      ],
      "execution_count": null,
      "outputs": []
    },
    {
      "cell_type": "code",
      "metadata": {
        "id": "p_DGr8hFtQcf"
      },
      "source": [
        "import pandas as pd\n",
        "path_no1 = os.path.join(path_dataset, 'russian_names.csv')\n",
        "names_df = pd.read_csv(path_no1,sep=';')"
      ],
      "execution_count": null,
      "outputs": []
    },
    {
      "cell_type": "code",
      "metadata": {
        "colab": {
          "base_uri": "https://localhost:8080/"
        },
        "id": "DUpmvpEZtbtt",
        "outputId": "418807d3-1ed4-4f7e-b8ba-707211361b44"
      },
      "source": [
        "names=names_df['Name'].str.lower().tolist()\n",
        "len(names)"
      ],
      "execution_count": null,
      "outputs": [
        {
          "output_type": "execute_result",
          "data": {
            "text/plain": [
              "51529"
            ]
          },
          "metadata": {
            "tags": []
          },
          "execution_count": 4
        }
      ]
    },
    {
      "cell_type": "code",
      "metadata": {
        "id": "50DUv9M6uGuF"
      },
      "source": [
        "import pandas as pd\n",
        "path_no1 = os.path.join(path_dataset, 'russian_surnames.csv')\n",
        "surnames_df = pd.read_csv(path_no1,sep=';')"
      ],
      "execution_count": null,
      "outputs": []
    },
    {
      "cell_type": "code",
      "metadata": {
        "id": "xskyoplVT3_O"
      },
      "source": [
        "category_lines = {}\n",
        "all_categories = ['name','surname','word']"
      ],
      "execution_count": null,
      "outputs": []
    },
    {
      "cell_type": "code",
      "metadata": {
        "colab": {
          "base_uri": "https://localhost:8080/"
        },
        "id": "rzcHR-FhuGyM",
        "outputId": "60fa28e9-4b9f-4e71-f834-9dca14439b34"
      },
      "source": [
        "surnames=surnames_df['Surname'].str.lower().tolist()\n",
        "category_lines['surname'] = surnames\n",
        "category_lines['name'] = names\n",
        "len(surnames)"
      ],
      "execution_count": null,
      "outputs": [
        {
          "output_type": "execute_result",
          "data": {
            "text/plain": [
              "318474"
            ]
          },
          "metadata": {
            "tags": []
          },
          "execution_count": 7
        }
      ]
    },
    {
      "cell_type": "code",
      "metadata": {
        "id": "2LIOyWyPuyO7"
      },
      "source": [
        "fnames=names+surnames"
      ],
      "execution_count": null,
      "outputs": []
    },
    {
      "cell_type": "code",
      "metadata": {
        "colab": {
          "base_uri": "https://localhost:8080/"
        },
        "id": "V3tszI-9u1lv",
        "outputId": "d369ea01-a7f9-4de3-8483-998ee355ff6d"
      },
      "source": [
        "len(fnames)"
      ],
      "execution_count": null,
      "outputs": [
        {
          "output_type": "execute_result",
          "data": {
            "text/plain": [
              "370003"
            ]
          },
          "metadata": {
            "tags": []
          },
          "execution_count": 9
        }
      ]
    },
    {
      "cell_type": "code",
      "metadata": {
        "id": "q3k19QeGswzk"
      },
      "source": [
        "import json\n",
        "path_no1 = os.path.join(path_dataset, 'words.json')\n",
        "with open(path_no1) as json_file:\n",
        "    data = json.load(json_file)"
      ],
      "execution_count": null,
      "outputs": []
    },
    {
      "cell_type": "code",
      "metadata": {
        "colab": {
          "base_uri": "https://localhost:8080/"
        },
        "id": "uOZ444EJudqq",
        "outputId": "3692ce85-2355-48ad-b54f-7dadf7f75a43"
      },
      "source": [
        "len(data)"
      ],
      "execution_count": null,
      "outputs": [
        {
          "output_type": "execute_result",
          "data": {
            "text/plain": [
              "106057"
            ]
          },
          "metadata": {
            "tags": []
          },
          "execution_count": 11
        }
      ]
    },
    {
      "cell_type": "code",
      "metadata": {
        "id": "nkavIAg6UlpE"
      },
      "source": [
        "category_lines['word'] = data"
      ],
      "execution_count": null,
      "outputs": []
    },
    {
      "cell_type": "code",
      "metadata": {
        "id": "P5agXzkrsV_O"
      },
      "source": [
        "import torch\n",
        "all_letters={' ':0, 'а':1,'б':2,'в':3,'г':4,'д':5,'е':6,'ё':7,'ж':8,'з':9,'и':10,'й':11,'к':12,'л':13,'м':14,'н':15,'о':16,'п':17,'р':18,'с':19,'т':20,\n",
        "                'у':21,'ф':22,'х':23,'ц':24,'ч':25,'ш':26,'щ':27,'ъ':28,'ы':29,'ь':30,'э':31,'ю':32,'я':33}\n",
        "n_letters = len(all_letters)\n",
        "\n",
        "def letter_to_tensor(letter):\n",
        "    tensor = torch.zeros(1, n_letters)\n",
        "    letter_index = all_letters[letter]\n",
        "    tensor[0][letter_index] = 1\n",
        "    return tensor\n",
        "\n",
        "# Turn a line into a <line_length x 1 x n_letters>,\n",
        "# or an array of one-hot letter vectors\n",
        "def line_to_tensor(word):\n",
        "\n",
        "  count=0\n",
        "  t=[]\n",
        "  for c in word.lower():\n",
        "    if c in all_letters.keys():\n",
        "      t.append(all_letters[c])\n",
        "      count+=1\n",
        "    tensor = torch.zeros(count, 1, n_letters)\n",
        "    for li in range(count):\n",
        "        letter_index = t[li]\n",
        "        tensor[li][0][letter_index] = 1\n",
        "  return tensor\n",
        "\n",
        "#def tokenize(word):\n",
        "#  tensor = torch.zeros(1, n_letters)\n",
        "#  i=0\n",
        "#  for c in word.lower():\n",
        "#    if c in alfa_dic.keys():\n",
        "#      tensor[0][i]=alfa_dic[c]\n",
        "#      i+=1\n",
        "#  return tensor\n",
        "  \n"
      ],
      "execution_count": null,
      "outputs": []
    },
    {
      "cell_type": "code",
      "metadata": {
        "colab": {
          "base_uri": "https://localhost:8080/"
        },
        "id": "RJqZxF0Ba7ot",
        "outputId": "c3cc301c-79c2-42c7-e3bf-14fcd252365d"
      },
      "source": [
        "print(all_letters['р'])"
      ],
      "execution_count": null,
      "outputs": [
        {
          "output_type": "stream",
          "text": [
            "18\n"
          ],
          "name": "stdout"
        }
      ]
    },
    {
      "cell_type": "code",
      "metadata": {
        "colab": {
          "base_uri": "https://localhost:8080/"
        },
        "id": "owdFcg32Ge7V",
        "outputId": "c6eacb59-c717-4ead-e1c9-e0c8d8489491"
      },
      "source": [
        "print(line_to_tensor('привет').size())"
      ],
      "execution_count": null,
      "outputs": [
        {
          "output_type": "stream",
          "text": [
            "torch.Size([6, 1, 34])\n"
          ],
          "name": "stdout"
        }
      ]
    },
    {
      "cell_type": "code",
      "metadata": {
        "id": "aQzvdT7gIb6X"
      },
      "source": [
        "n_categories = len(all_categories)"
      ],
      "execution_count": null,
      "outputs": []
    },
    {
      "cell_type": "code",
      "metadata": {
        "id": "VxdOaQ8QG68p"
      },
      "source": [
        "import torch.nn as nn\n",
        "from torch.autograd import Variable\n",
        "\n",
        "class RNN(nn.Module):\n",
        "    def __init__(self, input_size, hidden_size, output_size):\n",
        "        super(RNN, self).__init__()\n",
        "        \n",
        "        self.input_size = input_size\n",
        "        self.hidden_size = hidden_size\n",
        "        self.output_size = output_size\n",
        "        \n",
        "        self.i2h = nn.Linear(input_size + hidden_size, hidden_size)\n",
        "        self.i2o = nn.Linear(input_size + hidden_size, output_size)\n",
        "        self.softmax = nn.LogSoftmax()\n",
        "    \n",
        "    def forward(self, input, hidden):\n",
        "        combined = torch.cat((input, hidden), 1)\n",
        "        hidden = self.i2h(combined)\n",
        "        output = self.i2o(combined)\n",
        "        output = self.softmax(output)\n",
        "        return output, hidden\n",
        "\n",
        "    def init_hidden(self):\n",
        "        return Variable(torch.zeros(1, self.hidden_size))"
      ],
      "execution_count": null,
      "outputs": []
    },
    {
      "cell_type": "code",
      "metadata": {
        "id": "_mGiVLrtHATo"
      },
      "source": [
        "n_hidden = 128\n",
        "rnn = RNN(n_letters, n_hidden, n_categories)"
      ],
      "execution_count": null,
      "outputs": []
    },
    {
      "cell_type": "code",
      "metadata": {
        "colab": {
          "base_uri": "https://localhost:8080/"
        },
        "id": "Hc7EkRLUQngK",
        "outputId": "004ddfc2-a441-4bce-abe9-6b87aadc029c"
      },
      "source": [
        "input = Variable(letter_to_tensor('в'))\n",
        "hidden = rnn.init_hidden()\n",
        "\n",
        "output, next_hidden = rnn(input, hidden)\n",
        "print('output.size =', output.size())"
      ],
      "execution_count": null,
      "outputs": [
        {
          "output_type": "stream",
          "text": [
            "output.size = torch.Size([1, 3])\n"
          ],
          "name": "stdout"
        },
        {
          "output_type": "stream",
          "text": [
            "/usr/local/lib/python3.7/dist-packages/ipykernel_launcher.py:20: UserWarning: Implicit dimension choice for log_softmax has been deprecated. Change the call to include dim=X as an argument.\n"
          ],
          "name": "stderr"
        }
      ]
    },
    {
      "cell_type": "code",
      "metadata": {
        "colab": {
          "base_uri": "https://localhost:8080/"
        },
        "id": "hF3UGKLaNhWv",
        "outputId": "dafc85e7-b871-4f3e-b25c-1f5f5d8bc67f"
      },
      "source": [
        "input = Variable(line_to_tensor('хамелеон'))\n",
        "hidden = Variable(torch.zeros(1, n_hidden))\n",
        "\n",
        "output, next_hidden = rnn(input[0], hidden)\n",
        "print(output)"
      ],
      "execution_count": null,
      "outputs": [
        {
          "output_type": "stream",
          "text": [
            "tensor([[-1.1680, -0.9893, -1.1482]], grad_fn=<LogSoftmaxBackward>)\n"
          ],
          "name": "stdout"
        },
        {
          "output_type": "stream",
          "text": [
            "/usr/local/lib/python3.7/dist-packages/ipykernel_launcher.py:20: UserWarning: Implicit dimension choice for log_softmax has been deprecated. Change the call to include dim=X as an argument.\n"
          ],
          "name": "stderr"
        }
      ]
    },
    {
      "cell_type": "code",
      "metadata": {
        "colab": {
          "base_uri": "https://localhost:8080/"
        },
        "id": "VnG4Md85jSC4",
        "outputId": "8f9b1ad2-611f-4731-b3fe-b7800c4aee10"
      },
      "source": [
        "print(output.data.topk(1))"
      ],
      "execution_count": null,
      "outputs": [
        {
          "output_type": "stream",
          "text": [
            "torch.return_types.topk(\n",
            "values=tensor([[-0.9893]]),\n",
            "indices=tensor([[1]]))\n"
          ],
          "name": "stdout"
        }
      ]
    },
    {
      "cell_type": "code",
      "metadata": {
        "colab": {
          "base_uri": "https://localhost:8080/"
        },
        "id": "FVeopNH_e2Jg",
        "outputId": "82046ed4-4b71-4c68-cad0-7d1b922228fc"
      },
      "source": [
        "def category_from_output(output):\n",
        "    top_n, top_i = output.data.topk(1) # Tensor out of Variable with .data\n",
        "    category_i = top_i[0][0]\n",
        "    return all_categories[category_i], category_i\n",
        "\n",
        "print(category_from_output(output))"
      ],
      "execution_count": null,
      "outputs": [
        {
          "output_type": "stream",
          "text": [
            "('surname', tensor(1))\n"
          ],
          "name": "stdout"
        }
      ]
    },
    {
      "cell_type": "code",
      "metadata": {
        "colab": {
          "base_uri": "https://localhost:8080/"
        },
        "id": "ETxURaPkVkVm",
        "outputId": "8726a998-5df6-43bc-f194-2a4f6a6fed09"
      },
      "source": [
        "import random\n",
        "\n",
        "def random_training_pair():                                                                                                               \n",
        "    category = random.choice(all_categories)\n",
        "    line = random.choice(category_lines[category])\n",
        "    category_tensor = Variable(torch.LongTensor([all_categories.index(category)]))\n",
        "    line_tensor = Variable(line_to_tensor(line))\n",
        "    return category, line, category_tensor, line_tensor\n",
        "\n",
        "for i in range(10):\n",
        "    category, line, category_tensor, line_tensor = random_training_pair()\n",
        "    print('category =', category, '/ line =', line)"
      ],
      "execution_count": null,
      "outputs": [
        {
          "output_type": "stream",
          "text": [
            "category = word / line = заведение\n",
            "category = name / line = тагани\n",
            "category = surname / line = билямдинова\n",
            "category = word / line = набиваться\n",
            "category = word / line = конгломератный\n",
            "category = surname / line = лейтан\n",
            "category = word / line = хамелеон\n",
            "category = surname / line = тюц\n",
            "category = name / line = парихан\n",
            "category = name / line = бакур\n"
          ],
          "name": "stdout"
        }
      ]
    },
    {
      "cell_type": "code",
      "metadata": {
        "id": "n7mwd4YPXl6T"
      },
      "source": [
        "criterion = nn.NLLLoss()"
      ],
      "execution_count": null,
      "outputs": []
    },
    {
      "cell_type": "code",
      "metadata": {
        "id": "QqhrhTxgXqNY"
      },
      "source": [
        "learning_rate = 0.005 # If you set this too high, it might explode. If too low, it might not learn\n",
        "optimizer = torch.optim.SGD(rnn.parameters(), lr=learning_rate)"
      ],
      "execution_count": null,
      "outputs": []
    },
    {
      "cell_type": "code",
      "metadata": {
        "id": "SxtuJ1ykXrI9"
      },
      "source": [
        "def train(category_tensor, line_tensor):\n",
        "    rnn.zero_grad()\n",
        "    hidden = rnn.init_hidden()\n",
        "    \n",
        "    for i in range(line_tensor.size()[0]):\n",
        "        output, hidden = rnn(line_tensor[i], hidden)\n",
        "\n",
        "    loss = criterion(output, category_tensor)\n",
        "    loss.backward()\n",
        "\n",
        "    optimizer.step()\n",
        "\n",
        "    return output, loss.data"
      ],
      "execution_count": null,
      "outputs": []
    },
    {
      "cell_type": "code",
      "metadata": {
        "colab": {
          "base_uri": "https://localhost:8080/"
        },
        "id": "d3I8QxcDXvAF",
        "outputId": "a7fe4722-1106-4c0d-aee7-8a5c275cb046"
      },
      "source": [
        "import time\n",
        "import math\n",
        "\n",
        "n_epochs = 5000000\n",
        "print_every = 50000\n",
        "plot_every = 10000\n",
        "\n",
        "# Keep track of losses for plotting\n",
        "current_loss = 0\n",
        "all_losses = []\n",
        "\n",
        "def time_since(since):\n",
        "    now = time.time()\n",
        "    s = now - since\n",
        "    m = math.floor(s / 60)\n",
        "    s -= m * 60\n",
        "    return '%dm %ds' % (m, s)\n",
        "\n",
        "start = time.time()\n",
        "\n",
        "for epoch in range(1, n_epochs + 1):\n",
        "    # Get a random training input and target\n",
        "    category, line, category_tensor, line_tensor = random_training_pair()\n",
        "    output, loss = train(category_tensor, line_tensor)\n",
        "    current_loss += loss\n",
        "    \n",
        "    # Print epoch number, loss, name and guess\n",
        "    if epoch % print_every == 0:\n",
        "        guess, guess_i = category_from_output(output)\n",
        "        correct = '✓' if guess == category else '✗ (%s)' % category\n",
        "        print('%d %d%% (%s) %.4f %s / %s %s' % (epoch, epoch / n_epochs * 100, time_since(start), loss, line, guess, correct))\n",
        "\n",
        "    # Add current loss avg to list of losses\n",
        "    if epoch % plot_every == 0:\n",
        "        all_losses.append(current_loss / plot_every)\n",
        "        current_loss = 0"
      ],
      "execution_count": null,
      "outputs": [
        {
          "output_type": "stream",
          "text": [
            "/usr/local/lib/python3.7/dist-packages/ipykernel_launcher.py:20: UserWarning: Implicit dimension choice for log_softmax has been deprecated. Change the call to include dim=X as an argument.\n"
          ],
          "name": "stderr"
        },
        {
          "output_type": "stream",
          "text": [
            "5000 0% (0m 8s) 0.1419 наставница / word ✓\n",
            "10000 0% (0m 16s) 0.0153 сучугова / surname ✓\n",
            "15000 0% (0m 25s) 0.2808 ослёнок / word ✓\n",
            "20000 0% (0m 33s) 0.4045 наровчатская / surname ✓\n",
            "25000 0% (0m 41s) 0.3395 онега / name ✓\n",
            "30000 0% (0m 50s) 0.3465 айдын / name ✓\n",
            "35000 0% (0m 58s) 1.0705 тридберг / name ✗ (surname)\n",
            "40000 0% (1m 7s) 0.5486 якуненко / surname ✓\n",
            "45000 0% (1m 15s) 0.0242 словчить / word ✓\n",
            "50000 1% (1m 23s) 0.3070 вдоволь / word ✓\n",
            "55000 1% (1m 32s) 0.0611 переплетение / word ✓\n",
            "60000 1% (1m 40s) 0.2072 гразия / name ✓\n",
            "65000 1% (1m 49s) 0.3689 аскарбий / name ✓\n",
            "70000 1% (1m 57s) 0.0123 проставлять / word ✓\n",
            "75000 1% (2m 6s) 0.2270 коржновский / surname ✓\n",
            "80000 1% (2m 14s) 0.2046 дилеан / name ✓\n",
            "85000 1% (2m 23s) 0.0468 тщание / word ✓\n",
            "90000 1% (2m 31s) 2.7167 кариб / name ✗ (word)\n",
            "95000 1% (2m 39s) 0.0097 макрякова / surname ✓\n",
            "100000 2% (2m 48s) 0.3179 сайлина / name ✓\n",
            "105000 2% (2m 56s) 1.3651 воян / surname ✗ (name)\n",
            "110000 2% (3m 4s) 0.3528 цимбаленко / surname ✓\n",
            "115000 2% (3m 13s) 0.0210 уменушкина / surname ✓\n",
            "120000 2% (3m 21s) 1.5720 штакк / word ✗ (surname)\n",
            "125000 2% (3m 29s) 3.4554 эрайзер / name ✗ (surname)\n",
            "130000 2% (3m 38s) 0.6519 арксентий / name ✓\n",
            "135000 2% (3m 46s) 0.0084 гласков / surname ✓\n",
            "140000 2% (3m 55s) 0.1000 ланских / surname ✓\n",
            "145000 2% (4m 3s) 0.4295 шутман / surname ✓\n",
            "150000 3% (4m 11s) 0.0183 подпиливать / word ✓\n",
            "155000 3% (4m 20s) 0.3009 яфим / name ✓\n",
            "160000 3% (4m 28s) 0.7545 аспария / name ✓\n",
            "165000 3% (4m 36s) 0.0097 допевать / word ✓\n",
            "170000 3% (4m 45s) 0.0022 шпитонков / surname ✓\n",
            "175000 3% (4m 53s) 0.1372 вайлет / name ✓\n",
            "180000 3% (5m 2s) 0.9288 прусак / surname ✓\n",
            "185000 3% (5m 10s) 0.4255 тату / name ✓\n",
            "190000 3% (5m 19s) 0.0617 северьянова / surname ✓\n",
            "195000 3% (5m 28s) 0.5770 легковер / word ✓\n",
            "200000 4% (5m 36s) 0.2084 билг / name ✓\n",
            "205000 4% (5m 44s) 0.2913 гурей / name ✓\n",
            "210000 4% (5m 53s) 0.0205 сосватывать / word ✓\n",
            "215000 4% (6m 2s) 0.1436 плотанида / name ✓\n",
            "220000 4% (6m 10s) 0.0166 евпсихеев / surname ✓\n",
            "225000 4% (6m 18s) 0.0380 потаковщик / word ✓\n",
            "230000 4% (6m 27s) 0.3441 ужинный / word ✓\n",
            "235000 4% (6m 35s) 2.3650 якун / surname ✗ (name)\n",
            "240000 4% (6m 44s) 0.0878 журналистка / word ✓\n",
            "245000 4% (6m 52s) 0.0488 мэдж / name ✓\n",
            "250000 5% (7m 0s) 0.0914 эшбел / name ✓\n",
            "255000 5% (7m 9s) 0.1665 биржова / surname ✓\n",
            "260000 5% (7m 17s) 0.6984 кермит / name ✓\n",
            "265000 5% (7m 26s) 0.5206 венина / name ✓\n",
            "270000 5% (7m 34s) 0.8128 невенченко / word ✗ (surname)\n",
            "275000 5% (7m 43s) 0.0359 хорохонова / surname ✓\n",
            "280000 5% (7m 51s) 3.3119 легенда / name ✗ (word)\n",
            "285000 5% (8m 0s) 0.6691 ямакина / surname ✓\n",
            "290000 5% (8m 8s) 0.5742 ферротипия / word ✓\n",
            "295000 5% (8m 16s) 1.0500 ястреб / name ✗ (word)\n",
            "300000 6% (8m 25s) 0.0137 шельмоватость / word ✓\n",
            "305000 6% (8m 33s) 0.6340 дизель / name ✓\n",
            "310000 6% (8m 42s) 0.4360 валентита / name ✓\n",
            "315000 6% (8m 50s) 0.0819 наматова / surname ✓\n",
            "320000 6% (8m 58s) 0.0654 человеколюбие / word ✓\n",
            "325000 6% (9m 7s) 0.0474 куличный / word ✓\n",
            "330000 6% (9m 15s) 0.0110 чуклеев / surname ✓\n",
            "335000 6% (9m 23s) 0.7259 боглоцишвили / surname ✓\n",
            "340000 6% (9m 32s) 0.0153 бесстыдствовать / word ✓\n",
            "345000 6% (9m 40s) 0.0128 посердиться / word ✓\n",
            "350000 7% (9m 49s) 0.0252 йехиам / name ✓\n",
            "355000 7% (9m 57s) 3.8913 змеелов / surname ✗ (word)\n",
            "360000 7% (10m 6s) 0.5668 магдалка / name ✓\n",
            "365000 7% (10m 14s) 0.1093 домодельный / word ✓\n",
            "370000 7% (10m 23s) 0.0118 разглядеть / word ✓\n",
            "375000 7% (10m 31s) 0.0237 шмырева / surname ✓\n",
            "380000 7% (10m 40s) 0.7055 малання / name ✓\n",
            "385000 7% (10m 48s) 0.2639 велеса / name ✓\n",
            "390000 7% (10m 57s) 1.9230 шатан / name ✗ (surname)\n",
            "395000 7% (11m 5s) 0.0107 осветить / word ✓\n",
            "400000 8% (11m 14s) 0.3524 распивин / surname ✓\n",
            "405000 8% (11m 22s) 0.4532 фостирий / name ✓\n",
            "410000 8% (11m 30s) 1.0072 опивоха / surname ✗ (word)\n",
            "415000 8% (11m 39s) 0.2271 ажий / name ✓\n",
            "420000 8% (11m 47s) 0.0424 амбраз / name ✓\n",
            "425000 8% (11m 56s) 1.0991 голивец / word ✗ (surname)\n",
            "430000 8% (12m 4s) 0.0469 копсов / surname ✓\n",
            "435000 8% (12m 12s) 0.0067 взбушевать / word ✓\n",
            "440000 8% (12m 21s) 0.5570 динамовец / word ✓\n",
            "445000 8% (12m 29s) 0.4430 гульжан / name ✓\n",
            "450000 9% (12m 38s) 2.9632 феодоська / word ✗ (name)\n",
            "455000 9% (12m 46s) 0.3689 авксентия / name ✓\n",
            "460000 9% (12m 55s) 0.0634 мадрас / name ✓\n",
            "465000 9% (13m 3s) 0.0074 схлестнуться / word ✓\n",
            "470000 9% (13m 12s) 0.0367 привольный / word ✓\n",
            "475000 9% (13m 20s) 0.1513 адыбаева / surname ✓\n",
            "480000 9% (13m 29s) 0.0408 гомозов / surname ✓\n",
            "485000 9% (13m 37s) 0.0318 соматогенный / word ✓\n",
            "490000 9% (13m 46s) 0.1608 тянущий / word ✓\n",
            "495000 9% (13m 54s) 3.0942 шпет / word ✗ (surname)\n",
            "500000 10% (14m 2s) 0.5466 бенисио / name ✓\n",
            "505000 10% (14m 11s) 0.0213 оползневый / word ✓\n",
            "510000 10% (14m 20s) 0.7643 гетеризм / name ✗ (word)\n",
            "515000 10% (14m 28s) 0.6806 точигина / surname ✓\n",
            "520000 10% (14m 38s) 0.0769 пигарова / surname ✓\n",
            "525000 10% (14m 48s) 0.0812 суфьянова / surname ✓\n",
            "530000 10% (14m 56s) 0.1686 добромыслова / surname ✓\n",
            "535000 10% (15m 5s) 0.1103 краденое / word ✓\n",
            "540000 10% (15m 13s) 0.0547 мамеди / name ✓\n",
            "545000 10% (15m 22s) 1.5546 мирт / name ✗ (word)\n",
            "550000 11% (15m 30s) 0.0019 переобезьянить / word ✓\n",
            "555000 11% (15m 39s) 0.3376 райов / surname ✓\n",
            "560000 11% (15m 47s) 1.0397 абдугин / surname ✗ (name)\n",
            "565000 11% (15m 56s) 0.0918 ефимия / name ✓\n",
            "570000 11% (16m 4s) 0.5373 гинк / surname ✓\n",
            "575000 11% (16m 13s) 0.0632 мират / name ✓\n",
            "580000 11% (16m 21s) 0.0789 канонич / surname ✓\n",
            "585000 11% (16m 29s) 0.0535 аниля / name ✓\n",
            "590000 11% (16m 38s) 0.0155 гручишкин / surname ✓\n",
            "595000 11% (16m 46s) 0.1205 мартан / name ✓\n",
            "600000 12% (16m 54s) 2.3192 конечно / surname ✗ (word)\n",
            "605000 12% (17m 3s) 3.9612 лейфферт / name ✗ (surname)\n",
            "610000 12% (17m 11s) 0.7043 лог / word ✓\n",
            "615000 12% (17m 20s) 0.0715 алинаки / name ✓\n",
            "620000 12% (17m 28s) 0.2312 шабсон / surname ✓\n",
            "625000 12% (17m 37s) 0.1180 шилаковский / surname ✓\n",
            "630000 12% (17m 45s) 0.2311 сабахат / name ✓\n",
            "635000 12% (17m 53s) 0.5111 лиянида / name ✓\n",
            "640000 12% (18m 2s) 0.0204 расскакаться / word ✓\n",
            "645000 12% (18m 10s) 1.1515 амелешин / name ✗ (surname)\n",
            "650000 13% (18m 19s) 0.4927 стыпулковская / surname ✓\n",
            "655000 13% (18m 27s) 2.1604 шокута / word ✗ (surname)\n",
            "660000 13% (18m 36s) 0.4184 медост / name ✓\n",
            "665000 13% (18m 44s) 0.2251 пулевой / word ✓\n",
            "670000 13% (18m 53s) 0.0403 мансупова / surname ✓\n",
            "675000 13% (19m 1s) 0.4397 эль-регистан-уреклян / surname ✓\n",
            "680000 13% (19m 9s) 0.0541 дренясов / surname ✓\n",
            "685000 13% (19m 18s) 0.1874 айраслан / name ✓\n",
            "690000 13% (19m 26s) 0.0019 омертвелость / word ✓\n",
            "695000 13% (19m 35s) 0.6052 апполинард / name ✓\n",
            "700000 14% (19m 43s) 0.7637 мавлуддин / name ✓\n",
            "705000 14% (19m 52s) 0.0301 хармузов / surname ✓\n",
            "710000 14% (20m 0s) 0.1713 балабан / name ✓\n",
            "715000 14% (20m 9s) 0.1958 лимфатический / word ✓\n",
            "720000 14% (20m 17s) 0.0156 переграфить / word ✓\n",
            "725000 14% (20m 25s) 0.2340 рамульда / name ✓\n",
            "730000 14% (20m 34s) 0.7092 перунеля / name ✓\n",
            "735000 14% (20m 42s) 1.6559 евгине / surname ✗ (name)\n",
            "740000 14% (20m 50s) 0.1560 илса / name ✓\n",
            "745000 14% (20m 59s) 0.0658 файсалия / name ✓\n",
            "750000 15% (21m 7s) 0.0008 тарканчиков / surname ✓\n",
            "755000 15% (21m 16s) 0.1114 вида / name ✓\n",
            "760000 15% (21m 24s) 0.5248 сунькрит / name ✓\n",
            "765000 15% (21m 32s) 0.0247 нахошкин / surname ✓\n",
            "770000 15% (21m 41s) 0.0395 моллюсковый / word ✓\n",
            "775000 15% (21m 49s) 0.0244 запрессоваться / word ✓\n",
            "780000 15% (21m 58s) 1.3228 студилин / name ✗ (surname)\n",
            "785000 15% (22m 6s) 0.9782 амиршейх / surname ✗ (name)\n",
            "790000 15% (22m 14s) 0.0877 даземира / name ✓\n",
            "795000 15% (22m 23s) 2.3626 морена / name ✗ (word)\n",
            "800000 16% (22m 31s) 0.0130 екатериничев / surname ✓\n",
            "805000 16% (22m 40s) 0.3125 некролатрия / word ✓\n",
            "810000 16% (22m 48s) 0.3540 фавзия / name ✓\n",
            "815000 16% (22m 56s) 1.0580 напор / name ✗ (word)\n",
            "820000 16% (23m 5s) 0.0229 четвертый / word ✓\n",
            "825000 16% (23m 13s) 0.3876 назайкинский / surname ✓\n",
            "830000 16% (23m 21s) 0.7482 фильмостат / name ✗ (word)\n",
            "835000 16% (23m 30s) 0.6041 тор / name ✓\n",
            "840000 16% (23m 38s) 2.7440 жумаш / name ✗ (surname)\n",
            "845000 16% (23m 47s) 0.3667 ладейка / name ✓\n",
            "850000 17% (23m 55s) 1.1849 пленидин / name ✗ (surname)\n",
            "855000 17% (24m 3s) 1.2524 ситронелла / word ✗ (name)\n",
            "860000 17% (24m 12s) 0.0298 клопкова / surname ✓\n",
            "865000 17% (24m 20s) 0.1368 марги / name ✓\n",
            "870000 17% (24m 29s) 0.3337 паплина / surname ✓\n",
            "875000 17% (24m 37s) 0.1048 оршанский / surname ✓\n",
            "880000 17% (24m 45s) 0.0879 плачковская / surname ✓\n",
            "885000 17% (24m 54s) 0.2837 мильтиад / name ✓\n",
            "890000 17% (25m 2s) 0.2581 зора / name ✓\n",
            "895000 17% (25m 10s) 0.0468 гваяковый / word ✓\n",
            "900000 18% (25m 19s) 1.5118 вулиянка / word ✗ (name)\n",
            "905000 18% (25m 27s) 0.2787 алисалаль / name ✓\n",
            "910000 18% (25m 35s) 0.0458 полурядникова / surname ✓\n",
            "915000 18% (25m 44s) 0.0013 прокипятить / word ✓\n",
            "920000 18% (25m 52s) 0.1356 пениться / word ✓\n",
            "925000 18% (26m 0s) 0.1729 будулатьева / surname ✓\n",
            "930000 18% (26m 9s) 2.2123 порше / word ✗ (name)\n",
            "935000 18% (26m 17s) 0.0541 шмельченко / surname ✓\n",
            "940000 18% (26m 26s) 0.1375 идиханова / surname ✓\n",
            "945000 18% (26m 34s) 0.2840 костромина / surname ✓\n",
            "950000 19% (26m 42s) 0.8967 сатирский / word ✗ (surname)\n",
            "955000 19% (26m 51s) 1.1866 фидлерман / name ✗ (surname)\n",
            "960000 19% (26m 59s) 0.4344 прочерк / word ✓\n",
            "965000 19% (27m 7s) 0.0328 сахра / name ✓\n",
            "970000 19% (27m 16s) 0.0014 наворачивать / word ✓\n",
            "975000 19% (27m 24s) 2.8464 свитослав / surname ✗ (name)\n",
            "980000 19% (27m 32s) 0.0765 маммаева / surname ✓\n",
            "985000 19% (27m 41s) 0.1925 алезий / name ✓\n",
            "990000 19% (27m 49s) 0.1486 талялев / surname ✓\n",
            "995000 19% (27m 58s) 0.3117 уга / name ✓\n",
            "1000000 20% (28m 6s) 0.5351 шипунья / word ✓\n",
            "1005000 20% (28m 15s) 3.9995 жнива / surname ✗ (word)\n",
            "1010000 20% (28m 23s) 0.0500 постышева / surname ✓\n",
            "1015000 20% (28m 32s) 3.1125 немзер / name ✗ (surname)\n",
            "1020000 20% (28m 40s) 0.3691 феодулия / name ✓\n",
            "1025000 20% (28m 48s) 0.1011 короневская / surname ✓\n",
            "1030000 20% (28m 57s) 0.2830 аурилиян / name ✓\n",
            "1035000 20% (29m 5s) 0.0553 бондарев / surname ✓\n",
            "1040000 20% (29m 14s) 0.0116 смугловатый / word ✓\n",
            "1045000 20% (29m 22s) 0.7002 сергушко / surname ✓\n",
            "1050000 21% (29m 30s) 0.0972 салехдинова / surname ✓\n",
            "1055000 21% (29m 39s) 0.0603 ошпов / surname ✓\n",
            "1060000 21% (29m 47s) 0.0121 передрогнуть / word ✓\n",
            "1065000 21% (29m 55s) 0.3507 христия / name ✓\n",
            "1070000 21% (30m 3s) 0.1035 марийпа / name ✓\n",
            "1075000 21% (30m 12s) 0.1749 лежбище / word ✓\n",
            "1080000 21% (30m 20s) 0.2238 касараускас / surname ✓\n",
            "1085000 21% (30m 29s) 0.0805 стеклянный / word ✓\n",
            "1090000 21% (30m 37s) 0.0899 уля / name ✓\n",
            "1095000 21% (30m 46s) 0.7822 трехлинейка / word ✓\n",
            "1100000 22% (30m 54s) 0.0445 посерьезнеть / word ✓\n",
            "1105000 22% (31m 2s) 0.1131 раскрепление / word ✓\n",
            "1110000 22% (31m 11s) 0.0208 леляпчева / surname ✓\n",
            "1115000 22% (31m 19s) 0.1022 сослать / word ✓\n",
            "1120000 22% (31m 27s) 0.2152 сопелкина / surname ✓\n",
            "1125000 22% (31m 36s) 0.0829 хролович / surname ✓\n",
            "1130000 22% (31m 44s) 0.3283 ричинец / surname ✓\n",
            "1135000 22% (31m 52s) 0.0013 бичуков / surname ✓\n",
            "1140000 22% (32m 1s) 0.0538 водопропускной / word ✓\n",
            "1145000 22% (32m 9s) 0.4035 шепалин / surname ✓\n",
            "1150000 23% (32m 17s) 0.1597 авергий / name ✓\n",
            "1155000 23% (32m 26s) 0.0053 буньков / surname ✓\n",
            "1160000 23% (32m 34s) 0.9164 необходимая / name ✓\n",
            "1165000 23% (32m 43s) 0.0558 сафижан / name ✓\n",
            "1170000 23% (32m 51s) 0.0078 некравцев / surname ✓\n",
            "1175000 23% (33m 0s) 0.5542 пуховик / surname ✓\n",
            "1180000 23% (33m 8s) 0.0075 отхватить / word ✓\n",
            "1185000 23% (33m 16s) 0.8364 диагноз / name ✗ (word)\n",
            "1190000 23% (33m 25s) 0.6015 замочек / word ✓\n",
            "1195000 23% (33m 34s) 3.0798 рагулье / name ✗ (surname)\n",
            "1200000 24% (33m 42s) 0.0468 говендяева / surname ✓\n",
            "1205000 24% (33m 51s) 0.1264 знающий / word ✓\n",
            "1210000 24% (33m 59s) 1.2445 хранение / name ✗ (word)\n",
            "1215000 24% (34m 8s) 0.0136 погребцова / surname ✓\n",
            "1220000 24% (34m 16s) 0.1130 жгутов / surname ✓\n",
            "1225000 24% (34m 24s) 0.0422 избакиева / surname ✓\n",
            "1230000 24% (34m 33s) 0.0041 здольников / surname ✓\n",
            "1235000 24% (34m 41s) 1.0327 растеска / name ✗ (word)\n",
            "1240000 24% (34m 50s) 0.0339 пустопорожний / word ✓\n",
            "1245000 24% (34m 58s) 0.4592 шманина / surname ✓\n",
            "1250000 25% (35m 6s) 0.1593 фаника / name ✓\n",
            "1255000 25% (35m 15s) 0.0039 молеков / surname ✓\n",
            "1260000 25% (35m 23s) 0.1539 мощыгин / surname ✓\n",
            "1265000 25% (35m 31s) 0.0020 верешельников / surname ✓\n",
            "1270000 25% (35m 40s) 0.3072 лаврентий / name ✓\n",
            "1275000 25% (35m 48s) 0.3595 гитриф / name ✓\n",
            "1280000 25% (35m 57s) 1.3941 мазилка / name ✗ (word)\n",
            "1285000 25% (36m 5s) 2.2685 ретикулин / surname ✗ (word)\n",
            "1290000 25% (36m 14s) 0.0502 пигова / surname ✓\n",
            "1295000 25% (36m 22s) 0.4660 ерослава / name ✓\n",
            "1300000 26% (36m 30s) 0.5703 габейдулин / surname ✓\n",
            "1305000 26% (36m 39s) 0.1740 ваваржицкий / surname ✓\n",
            "1310000 26% (36m 47s) 0.3876 альвиан / name ✓\n",
            "1315000 26% (36m 56s) 0.0513 аксират / name ✓\n",
            "1320000 26% (37m 4s) 0.5502 фокина / surname ✓\n",
            "1325000 26% (37m 12s) 0.3291 кастальская / surname ✓\n",
            "1330000 26% (37m 21s) 0.0306 шлакоблочный / word ✓\n",
            "1335000 26% (37m 29s) 0.0895 полизаева / surname ✓\n",
            "1340000 26% (37m 38s) 0.1298 сенсуалистический / word ✓\n",
            "1345000 26% (37m 46s) 0.4400 лаурика / name ✓\n",
            "1350000 27% (37m 55s) 0.0134 молякова / surname ✓\n",
            "1355000 27% (38m 3s) 0.1255 действенный / word ✓\n",
            "1360000 27% (38m 12s) 0.0324 аферда / name ✓\n",
            "1365000 27% (38m 20s) 0.3822 сверановская / surname ✓\n",
            "1370000 27% (38m 28s) 0.3788 подрубка / word ✓\n",
            "1375000 27% (38m 37s) 0.0889 дарбеева / surname ✓\n",
            "1380000 27% (38m 45s) 0.4264 восьмидесятилетие / word ✓\n",
            "1385000 27% (38m 54s) 0.0087 смыгунов / surname ✓\n",
            "1390000 27% (39m 2s) 0.3345 пиетет / word ✓\n",
            "1395000 27% (39m 11s) 0.0213 благословлять / word ✓\n",
            "1400000 28% (39m 19s) 0.8401 шлопак / surname ✓\n",
            "1405000 28% (39m 28s) 0.0246 федяйнова / surname ✓\n",
            "1410000 28% (39m 36s) 1.2034 антонимия / name ✗ (word)\n",
            "1415000 28% (39m 44s) 0.4392 прунела / name ✓\n",
            "1420000 28% (39m 53s) 0.0936 гостынский / surname ✓\n",
            "1425000 28% (40m 1s) 0.0133 шемешова / surname ✓\n",
            "1430000 28% (40m 10s) 0.0875 пустырь / word ✓\n",
            "1435000 28% (40m 18s) 0.0711 йерахмиэль / name ✓\n",
            "1440000 28% (40m 27s) 0.9760 мотлич / name ✗ (surname)\n",
            "1445000 28% (40m 35s) 0.1056 тащев / surname ✓\n",
            "1450000 28% (40m 43s) 0.0205 друзякин / surname ✓\n",
            "1455000 29% (40m 52s) 1.0040 хакан / surname ✗ (name)\n",
            "1460000 29% (41m 0s) 0.7051 неудохин / surname ✓\n",
            "1465000 29% (41m 9s) 0.0342 действователь / word ✓\n",
            "1470000 29% (41m 17s) 0.0476 кеманов / surname ✓\n",
            "1475000 29% (41m 26s) 0.0329 семин-вадов / surname ✓\n",
            "1480000 29% (41m 34s) 0.0839 абйан / name ✓\n",
            "1485000 29% (41m 43s) 0.5185 деталировка / word ✓\n",
            "1490000 29% (41m 51s) 0.0913 амана / name ✓\n",
            "1495000 29% (41m 59s) 0.2566 жилович / surname ✓\n",
            "1500000 30% (42m 8s) 0.0094 дайэр / name ✓\n",
            "1505000 30% (42m 16s) 0.4507 яринка / name ✓\n",
            "1510000 30% (42m 25s) 0.1166 путеобходчик / word ✓\n",
            "1515000 30% (42m 33s) 0.1391 уездный / word ✓\n",
            "1520000 30% (42m 42s) 0.0393 марлэн / name ✓\n",
            "1525000 30% (42m 50s) 0.0545 надувательный / word ✓\n",
            "1530000 30% (42m 59s) 0.0241 боторова / surname ✓\n",
            "1535000 30% (43m 7s) 0.1160 нановская / surname ✓\n",
            "1540000 30% (43m 15s) 3.2710 мутаген / name ✗ (word)\n",
            "1545000 30% (43m 24s) 0.0981 вламываться / word ✓\n",
            "1550000 31% (43m 32s) 0.0608 симер / name ✓\n",
            "1555000 31% (43m 41s) 0.0027 шатрков / surname ✓\n",
            "1560000 31% (43m 49s) 0.0956 уплачивание / word ✓\n",
            "1565000 31% (43m 58s) 0.0817 партитурный / word ✓\n",
            "1570000 31% (44m 6s) 0.7649 лесбина / name ✓\n",
            "1575000 31% (44m 14s) 0.2985 елеферрий / name ✓\n",
            "1580000 31% (44m 23s) 2.3254 потравко / word ✗ (surname)\n",
            "1585000 31% (44m 31s) 0.0951 член-корреспондент / word ✓\n",
            "1590000 31% (44m 40s) 2.2475 дзвинислав / surname ✗ (name)\n",
            "1595000 31% (44m 48s) 0.3995 еспер / name ✓\n",
            "1600000 32% (44m 57s) 0.1923 шаливская / surname ✓\n",
            "1605000 32% (45m 5s) 1.3484 петрония / word ✗ (name)\n",
            "1610000 32% (45m 14s) 0.1086 лысонова / surname ✓\n",
            "1615000 32% (45m 22s) 1.3327 арутюнян / surname ✗ (name)\n",
            "1620000 32% (45m 30s) 0.3486 калеткина / surname ✓\n",
            "1625000 32% (45m 38s) 0.2388 фальцовка / word ✓\n",
            "1630000 32% (45m 47s) 0.0964 алимхомова / surname ✓\n",
            "1635000 32% (45m 55s) 0.4392 маргулян / surname ✓\n",
            "1640000 32% (46m 4s) 0.8929 ваншин / name ✗ (surname)\n",
            "1645000 32% (46m 12s) 0.0564 аблезгова / surname ✓\n",
            "1650000 33% (46m 20s) 0.1559 линарий / name ✓\n",
            "1655000 33% (46m 28s) 1.2529 геннис / name ✗ (surname)\n",
            "1660000 33% (46m 37s) 0.0908 канавкин / surname ✓\n",
            "1665000 33% (46m 45s) 0.2816 житлов / surname ✓\n",
            "1670000 33% (46m 54s) 2.2788 перл / name ✗ (word)\n",
            "1675000 33% (47m 2s) 0.0403 копчатов / surname ✓\n",
            "1680000 33% (47m 10s) 0.2048 даурен / name ✓\n",
            "1685000 33% (47m 19s) 0.0486 семенеева / surname ✓\n",
            "1690000 33% (47m 27s) 0.3599 загоржинская / surname ✓\n",
            "1695000 33% (47m 35s) 0.0073 растесаться / word ✓\n",
            "1700000 34% (47m 44s) 1.2702 паремья / name ✗ (word)\n",
            "1705000 34% (47m 52s) 0.0160 элбан / name ✓\n",
            "1710000 34% (48m 0s) 0.1987 гелецкая / surname ✓\n",
            "1715000 34% (48m 9s) 1.8438 бакшан / surname ✗ (name)\n",
            "1720000 34% (48m 17s) 0.0471 шивирев / surname ✓\n",
            "1725000 34% (48m 25s) 0.0228 намолотить / word ✓\n",
            "1730000 34% (48m 34s) 0.5988 шрапнель / word ✓\n",
            "1735000 34% (48m 42s) 0.0230 крундышева / surname ✓\n",
            "1740000 34% (48m 50s) 0.5894 кристана / name ✓\n",
            "1745000 34% (48m 59s) 0.7944 шуйлер / surname ✗ (name)\n",
            "1750000 35% (49m 7s) 0.0449 шерелл / name ✓\n",
            "1755000 35% (49m 16s) 0.0712 мазуров / surname ✓\n",
            "1760000 35% (49m 24s) 0.3606 берёза / name ✓\n",
            "1765000 35% (49m 33s) 0.0184 табахова / surname ✓\n",
            "1770000 35% (49m 41s) 0.0028 пробеливаться / word ✓\n",
            "1775000 35% (49m 49s) 2.0671 фанг / name ✗ (word)\n",
            "1780000 35% (49m 58s) 0.2602 юнера / name ✓\n",
            "1785000 35% (50m 6s) 0.0733 леганова / surname ✓\n",
            "1790000 35% (50m 15s) 0.4945 ворот / word ✓\n",
            "1795000 35% (50m 23s) 0.0427 мирап / name ✓\n",
            "1800000 36% (50m 32s) 0.1677 методкабинет / word ✓\n",
            "1805000 36% (50m 40s) 0.9084 коревор / word ✗ (name)\n",
            "1810000 36% (50m 49s) 0.6626 кузлина / surname ✓\n",
            "1815000 36% (50m 57s) 0.7437 лесничук / surname ✓\n",
            "1820000 36% (51m 6s) 1.5360 шлега / name ✗ (surname)\n",
            "1825000 36% (51m 14s) 0.9595 шамиран / surname ✗ (name)\n",
            "1830000 36% (51m 23s) 0.1394 сусловый / word ✓\n",
            "1835000 36% (51m 31s) 0.2101 поморщина / word ✓\n",
            "1840000 36% (51m 40s) 0.2854 кадулин / surname ✓\n",
            "1845000 36% (51m 48s) 0.0055 теплотворный / word ✓\n",
            "1850000 37% (51m 57s) 0.2287 мишихина / surname ✓\n",
            "1855000 37% (52m 5s) 0.5035 шамхан / name ✓\n",
            "1860000 37% (52m 14s) 3.1541 кива / surname ✗ (name)\n",
            "1865000 37% (52m 22s) 1.2132 тупальский / word ✗ (surname)\n",
            "1870000 37% (52m 30s) 4.3187 вильдт / name ✗ (surname)\n",
            "1875000 37% (52m 39s) 3.3994 думпе / word ✗ (surname)\n",
            "1880000 37% (52m 48s) 0.0202 альфрид / name ✓\n",
            "1885000 37% (52m 56s) 0.0591 цукать / word ✓\n",
            "1890000 37% (53m 5s) 0.1827 мелконян / surname ✓\n",
            "1895000 37% (53m 13s) 0.6389 зуёк / word ✓\n",
            "1900000 38% (53m 22s) 0.0827 салехметова / surname ✓\n",
            "1905000 38% (53m 30s) 0.0069 навертываться / word ✓\n",
            "1910000 38% (53m 38s) 0.0289 локаторщик / word ✓\n",
            "1915000 38% (53m 47s) 0.1091 тылочкина / surname ✓\n",
            "1920000 38% (53m 55s) 0.0005 пластичность / word ✓\n",
            "1925000 38% (54m 4s) 0.5719 кутелашвили / surname ✓\n",
            "1930000 38% (54m 12s) 0.0758 ражманов / surname ✓\n",
            "1935000 38% (54m 21s) 0.3617 аббадон / name ✓\n",
            "1940000 38% (54m 29s) 0.0126 кораблестроительный / word ✓\n",
            "1945000 38% (54m 38s) 2.0456 алтубан / name ✗ (surname)\n",
            "1950000 39% (54m 46s) 0.0810 онипкин / surname ✓\n",
            "1955000 39% (54m 55s) 0.0042 экзальтированный / word ✓\n",
            "1960000 39% (55m 3s) 0.4076 рамуза / name ✓\n",
            "1965000 39% (55m 12s) 0.0584 бухаловкина / surname ✓\n",
            "1970000 39% (55m 20s) 0.0557 пытев / surname ✓\n",
            "1975000 39% (55m 29s) 0.0083 мишункин / surname ✓\n",
            "1980000 39% (55m 37s) 0.1772 утаиваться / word ✓\n",
            "1985000 39% (55m 45s) 0.0499 свершиться / word ✓\n",
            "1990000 39% (55m 53s) 1.7031 вятеслав / surname ✗ (name)\n",
            "1995000 39% (56m 2s) 0.6942 знаточество / surname ✗ (word)\n",
            "2000000 40% (56m 11s) 0.6139 вонь / word ✓\n",
            "2005000 40% (56m 19s) 0.0255 малоактивный / word ✓\n",
            "2010000 40% (56m 27s) 0.2145 метаболит / word ✓\n",
            "2015000 40% (56m 36s) 1.8739 обшивка / surname ✗ (word)\n",
            "2020000 40% (56m 44s) 2.5254 хилиль / name ✗ (surname)\n",
            "2025000 40% (56m 53s) 0.0533 любомудрова / surname ✓\n",
            "2030000 40% (57m 1s) 0.1273 толстоножка / word ✓\n",
            "2035000 40% (57m 10s) 0.5395 малакут / name ✓\n",
            "2040000 40% (57m 18s) 1.6631 елка / name ✗ (word)\n",
            "2045000 40% (57m 27s) 0.7534 игнитрон / word ✓\n",
            "2050000 41% (57m 35s) 0.4803 кадербанат / name ✓\n",
            "2055000 41% (57m 44s) 0.0961 авда / name ✓\n",
            "2060000 41% (57m 52s) 0.0113 федюничев / surname ✓\n",
            "2065000 41% (58m 1s) 0.4369 савалий / name ✓\n",
            "2070000 41% (58m 9s) 0.0129 адрафия / name ✓\n",
            "2075000 41% (58m 18s) 0.5575 агнело / name ✓\n",
            "2080000 41% (58m 26s) 0.1292 абдульхалим / name ✓\n",
            "2085000 41% (58m 35s) 0.7323 онтоний / name ✓\n",
            "2090000 41% (58m 43s) 0.0975 знаменкина / surname ✓\n",
            "2095000 41% (58m 52s) 0.5727 завлишина / surname ✓\n",
            "2100000 42% (59m 0s) 0.1101 аноля / name ✓\n",
            "2105000 42% (59m 9s) 0.0174 центральный / word ✓\n",
            "2110000 42% (59m 17s) 0.0400 аппретурный / word ✓\n",
            "2115000 42% (59m 25s) 0.1279 щербелева / surname ✓\n",
            "2120000 42% (59m 34s) 0.0801 насер / name ✓\n",
            "2125000 42% (59m 42s) 0.4770 галимхан / name ✓\n",
            "2130000 42% (59m 51s) 0.4856 хитрухин / surname ✓\n",
            "2135000 42% (60m 0s) 0.1337 забрудин / surname ✓\n",
            "2140000 42% (60m 8s) 0.0861 ридия / name ✓\n",
            "2145000 42% (60m 16s) 0.0937 еловицкая / surname ✓\n",
            "2150000 43% (60m 25s) 1.3637 эстева / surname ✗ (name)\n",
            "2155000 43% (60m 33s) 0.0941 гэйтс / name ✓\n",
            "2160000 43% (60m 42s) 1.5837 гарнитур / name ✗ (word)\n",
            "2165000 43% (60m 50s) 0.4849 тянучка / word ✓\n",
            "2170000 43% (60m 58s) 1.1207 андрияускене / word ✗ (surname)\n",
            "2175000 43% (61m 7s) 3.1573 журбас / name ✗ (surname)\n",
            "2180000 43% (61m 15s) 0.4701 шитюк / surname ✓\n",
            "2185000 43% (61m 24s) 0.6603 мехрангиз / name ✓\n",
            "2190000 43% (61m 32s) 0.6083 панфнутий / name ✓\n",
            "2195000 43% (61m 41s) 0.0193 всевозможный / word ✓\n",
            "2200000 44% (61m 49s) 0.0089 монанников / surname ✓\n",
            "2205000 44% (61m 58s) 0.0044 поцеловаться / word ✓\n",
            "2210000 44% (62m 6s) 4.5082 воротной / word ✗ (surname)\n",
            "2215000 44% (62m 15s) 0.1875 последовательно / word ✓\n",
            "2220000 44% (62m 23s) 0.0824 афарин / name ✓\n",
            "2225000 44% (62m 31s) 0.0712 каталя / name ✓\n",
            "2230000 44% (62m 40s) 0.1812 атлина / name ✓\n",
            "2235000 44% (62m 48s) 0.0026 брильков / surname ✓\n",
            "2240000 44% (62m 57s) 0.5525 климентий / name ✓\n",
            "2245000 44% (63m 5s) 0.6634 позёрство / word ✓\n",
            "2250000 45% (63m 14s) 1.9901 верхослава / surname ✗ (name)\n",
            "2255000 45% (63m 22s) 0.2736 мессиа / name ✓\n",
            "2260000 45% (63m 30s) 0.0350 огарочный / word ✓\n",
            "2265000 45% (63m 39s) 0.1448 воротынская / surname ✓\n",
            "2270000 45% (63m 47s) 0.6634 агруния / name ✓\n",
            "2275000 45% (63m 56s) 0.1607 демид / name ✓\n",
            "2280000 45% (64m 4s) 0.0438 заслонкин / surname ✓\n",
            "2285000 45% (64m 13s) 0.0328 фатхутдинова / surname ✓\n",
            "2290000 45% (64m 22s) 0.0939 патриотка / word ✓\n",
            "2295000 45% (64m 30s) 0.0163 острякова / surname ✓\n",
            "2300000 46% (64m 39s) 0.1081 верднев / surname ✓\n",
            "2305000 46% (64m 47s) 0.0511 зарюмить / word ✓\n",
            "2310000 46% (64m 56s) 0.8780 аствацатур / word ✗ (name)\n",
            "2315000 46% (65m 4s) 0.0430 линдсэй / name ✓\n",
            "2320000 46% (65m 13s) 0.3182 арамаиск / name ✓\n",
            "2325000 46% (65m 21s) 1.0957 гройпинер / name ✗ (surname)\n",
            "2330000 46% (65m 30s) 0.0711 жаткова / surname ✓\n",
            "2335000 46% (65m 38s) 0.0241 косницкая / surname ✓\n",
            "2340000 46% (65m 47s) 0.8094 жангельды / word ✗ (name)\n",
            "2345000 46% (65m 55s) 0.0439 эмма / name ✓\n",
            "2350000 47% (66m 4s) 0.7098 барбухо / surname ✓\n",
            "2355000 47% (66m 12s) 0.3755 просвещенский / word ✓\n",
            "2360000 47% (66m 21s) 0.0390 эннеса / name ✓\n",
            "2365000 47% (66m 29s) 0.1235 олистар / name ✓\n",
            "2370000 47% (66m 38s) 0.6044 алямский / surname ✓\n",
            "2375000 47% (66m 46s) 0.6397 аграппина / name ✓\n",
            "2380000 47% (66m 55s) 0.0990 увещатель / word ✓\n",
            "2385000 47% (67m 4s) 3.3841 дерикорчма / word ✗ (surname)\n",
            "2390000 47% (67m 12s) 0.1646 иманова / surname ✓\n",
            "2395000 47% (67m 20s) 0.0219 элиа / name ✓\n",
            "2400000 48% (67m 29s) 0.0753 калалиникова / surname ✓\n",
            "2405000 48% (67m 37s) 1.0854 зэев / surname ✗ (name)\n",
            "2410000 48% (67m 46s) 0.4477 кичикханум / name ✓\n",
            "2415000 48% (67m 54s) 0.0307 песочник / word ✓\n",
            "2420000 48% (68m 2s) 0.0021 байгушкин / surname ✓\n",
            "2425000 48% (68m 11s) 0.2806 упряма / name ✓\n",
            "2430000 48% (68m 19s) 0.4094 манучар / name ✓\n",
            "2435000 48% (68m 28s) 0.5816 джосианна / name ✓\n",
            "2440000 48% (68m 36s) 0.0938 дистиллятор / word ✓\n",
            "2445000 48% (68m 45s) 0.2760 онися / name ✓\n",
            "2450000 49% (68m 54s) 0.9114 походка / word ✓\n",
            "2455000 49% (69m 2s) 0.0217 андала / name ✓\n",
            "2460000 49% (69m 10s) 0.0547 демишов / surname ✓\n",
            "2465000 49% (69m 19s) 0.0721 мяктинова / surname ✓\n",
            "2470000 49% (69m 28s) 0.0416 енгибар / name ✓\n",
            "2475000 49% (69m 36s) 0.0028 достоверный / word ✓\n",
            "2480000 49% (69m 45s) 0.0622 рамила / name ✓\n",
            "2485000 49% (69m 54s) 0.6043 рулончик / word ✓\n",
            "2490000 49% (70m 2s) 0.0468 кэллэхэн / name ✓\n",
            "2495000 49% (70m 11s) 0.0384 загородный / word ✓\n",
            "2500000 50% (70m 19s) 0.0051 студенцова / surname ✓\n",
            "2505000 50% (70m 28s) 0.2556 введение / word ✓\n",
            "2510000 50% (70m 36s) 0.6166 папизм / word ✓\n",
            "2515000 50% (70m 44s) 0.1592 алетий / name ✓\n",
            "2520000 50% (70m 53s) 0.8659 влишин / name ✗ (surname)\n",
            "2525000 50% (71m 1s) 0.5932 нацистский / word ✓\n",
            "2530000 50% (71m 10s) 0.0247 эси / name ✓\n",
            "2535000 50% (71m 18s) 0.1869 ваис / name ✓\n",
            "2540000 50% (71m 26s) 0.7087 анегин / surname ✗ (name)\n",
            "2545000 50% (71m 35s) 0.0077 расплакаться / word ✓\n",
            "2550000 51% (71m 43s) 0.0173 задалбливать / word ✓\n",
            "2555000 51% (71m 52s) 0.0494 понынова / surname ✓\n",
            "2560000 51% (72m 0s) 0.0497 чадов / surname ✓\n",
            "2565000 51% (72m 8s) 0.0114 аленченков / surname ✓\n",
            "2570000 51% (72m 17s) 3.5270 лимузин / surname ✗ (word)\n",
            "2575000 51% (72m 25s) 0.0799 бузотерка / word ✓\n",
            "2580000 51% (72m 34s) 0.6308 шенбель / surname ✓\n",
            "2585000 51% (72m 43s) 0.7832 акоб / name ✓\n",
            "2590000 51% (72m 51s) 0.2510 алессио / name ✓\n",
            "2595000 51% (73m 0s) 1.1641 амирхосейн / surname ✗ (name)\n",
            "2600000 52% (73m 8s) 0.0440 корообдирка / word ✓\n",
            "2605000 52% (73m 16s) 0.0337 машбетова / surname ✓\n",
            "2610000 52% (73m 25s) 0.0038 единовластвовать / word ✓\n",
            "2615000 52% (73m 33s) 0.1511 тростяной / word ✓\n",
            "2620000 52% (73m 41s) 0.0024 провертывать / word ✓\n",
            "2625000 52% (73m 50s) 0.0109 оцеживать / word ✓\n",
            "2630000 52% (73m 58s) 0.3490 йерен / name ✓\n",
            "2635000 52% (74m 7s) 0.2956 кубонина / surname ✓\n",
            "2640000 52% (74m 15s) 0.0507 фохад / name ✓\n",
            "2645000 52% (74m 24s) 0.0310 авиэтта / name ✓\n",
            "2650000 53% (74m 32s) 1.5121 лукшт / word ✗ (surname)\n",
            "2655000 53% (74m 41s) 0.7849 жуховичер / surname ✓\n",
            "2660000 53% (74m 49s) 0.2464 лиодор / name ✓\n",
            "2665000 53% (74m 57s) 0.1978 заглавие / word ✓\n",
            "2670000 53% (75m 6s) 1.8851 бабкен / surname ✗ (name)\n",
            "2675000 53% (75m 14s) 1.8169 вестяко / word ✗ (surname)\n",
            "2680000 53% (75m 23s) 0.0352 пять / word ✓\n",
            "2685000 53% (75m 31s) 0.5908 парковская / surname ✓\n",
            "2690000 53% (75m 40s) 0.0094 ворошейкин / surname ✓\n",
            "2695000 53% (75m 48s) 0.2667 отзол / word ✓\n",
            "2700000 54% (75m 56s) 0.2328 круела / name ✓\n",
            "2705000 54% (76m 5s) 0.3805 ревгат / name ✓\n",
            "2710000 54% (76m 14s) 0.1244 заид / name ✓\n",
            "2715000 54% (76m 22s) 0.0057 стефутенков / surname ✓\n",
            "2720000 54% (76m 31s) 0.1608 афонасийка / name ✓\n",
            "2725000 54% (76m 39s) 1.9997 балакарь / word ✗ (surname)\n",
            "2730000 54% (76m 48s) 0.3943 агронская / surname ✓\n",
            "2735000 54% (76m 56s) 0.1017 пхьагал / name ✓\n",
            "2740000 54% (77m 5s) 0.0334 скусывать / word ✓\n",
            "2745000 54% (77m 14s) 1.6322 петржак / word ✗ (surname)\n",
            "2750000 55% (77m 22s) 0.1399 обминаться / word ✓\n",
            "2755000 55% (77m 31s) 0.0193 случить / word ✓\n",
            "2760000 55% (77m 39s) 3.2455 каражас / name ✗ (surname)\n",
            "2765000 55% (77m 48s) 0.0180 водочерпальный / word ✓\n",
            "2770000 55% (77m 56s) 1.5879 хулин / name ✗ (surname)\n",
            "2775000 55% (78m 5s) 0.0990 сахапов / surname ✓\n",
            "2780000 55% (78m 13s) 0.2057 виллибальд / name ✓\n",
            "2785000 55% (78m 22s) 0.0190 чёткость / word ✓\n",
            "2790000 55% (78m 30s) 0.0164 профессионализм / word ✓\n",
            "2795000 55% (78m 39s) 2.9121 зякирь / word ✗ (name)\n",
            "2800000 56% (78m 47s) 0.0852 даб / name ✓\n",
            "2805000 56% (78m 56s) 0.0154 карпушева / surname ✓\n",
            "2810000 56% (79m 4s) 0.0468 хирнова / surname ✓\n",
            "2815000 56% (79m 13s) 2.8496 закчейм / name ✗ (surname)\n",
            "2820000 56% (79m 21s) 0.6728 голицинская / surname ✓\n",
            "2825000 56% (79m 30s) 0.0084 подпоясываться / word ✓\n",
            "2830000 56% (79m 39s) 0.1382 прыгачева / surname ✓\n",
            "2835000 56% (79m 47s) 0.0194 автаидил / name ✓\n",
            "2840000 56% (79m 56s) 0.0402 прокоптелый / word ✓\n",
            "2845000 56% (80m 4s) 2.0615 юраш / name ✗ (surname)\n",
            "2850000 56% (80m 13s) 0.5997 еркия / name ✓\n",
            "2855000 57% (80m 22s) 0.3872 вульгаризаторский / word ✓\n",
            "2860000 57% (80m 31s) 1.2007 бромид / name ✗ (word)\n",
            "2865000 57% (80m 39s) 0.6324 тимаршин / surname ✓\n",
            "2870000 57% (80m 48s) 0.0817 сселиться / word ✓\n",
            "2875000 57% (80m 56s) 0.0398 родди / name ✓\n",
            "2880000 57% (81m 5s) 0.2342 яловицын / surname ✓\n",
            "2885000 57% (81m 13s) 0.0885 хурри / name ✓\n",
            "2890000 57% (81m 22s) 1.3474 утрясти / name ✗ (word)\n",
            "2895000 57% (81m 31s) 0.1505 сасса / name ✓\n",
            "2900000 57% (81m 39s) 0.4379 зарастание / word ✓\n",
            "2905000 58% (81m 48s) 0.0676 кэйлин / name ✓\n",
            "2910000 58% (81m 56s) 0.1644 истечь / word ✓\n",
            "2915000 58% (82m 5s) 0.0753 бакирова / surname ✓\n",
            "2920000 58% (82m 13s) 0.0296 облежать / word ✓\n",
            "2925000 58% (82m 22s) 0.6965 бузтанай / name ✓\n",
            "2930000 58% (82m 30s) 0.4534 гераина / name ✓\n",
            "2935000 58% (82m 39s) 0.0966 романова-хрусталева / surname ✓\n",
            "2940000 58% (82m 47s) 0.1723 маврия / name ✓\n",
            "2945000 58% (82m 55s) 0.0337 пережигать / word ✓\n",
            "2950000 59% (83m 4s) 0.0009 царственность / word ✓\n",
            "2955000 59% (83m 13s) 1.4900 лосятина / surname ✗ (word)\n",
            "2960000 59% (83m 21s) 0.4364 плюмаж / word ✓\n",
            "2965000 59% (83m 30s) 0.0049 строительный / word ✓\n",
            "2970000 59% (83m 38s) 0.2369 кинана / name ✓\n",
            "2975000 59% (83m 46s) 0.0031 прусковцова / surname ✓\n",
            "2980000 59% (83m 55s) 2.2949 брок / word ✗ (surname)\n",
            "2985000 59% (84m 3s) 0.0079 возгораться / word ✓\n",
            "2990000 59% (84m 12s) 0.0614 колеганов / surname ✓\n",
            "2995000 59% (84m 20s) 0.1726 кишкурин / surname ✓\n",
            "3000000 60% (84m 29s) 0.2658 абзалдин / name ✓\n",
            "3005000 60% (84m 37s) 0.0913 шипеть / word ✓\n",
            "3010000 60% (84m 45s) 0.3296 айрие / name ✓\n",
            "3015000 60% (84m 54s) 0.5832 азеренкоа / surname ✓\n",
            "3020000 60% (85m 2s) 0.3566 тупчи / name ✓\n",
            "3025000 60% (85m 11s) 2.2346 орда / name ✗ (word)\n",
            "3030000 60% (85m 19s) 1.0874 юсикайнен / name ✗ (surname)\n",
            "3035000 60% (85m 28s) 0.3762 гарнет / name ✓\n",
            "3040000 60% (85m 36s) 0.6482 гранильня / word ✓\n",
            "3045000 60% (85m 44s) 0.0037 коляденков / surname ✓\n",
            "3050000 61% (85m 53s) 1.1336 рыболовство / surname ✗ (word)\n",
            "3055000 61% (86m 1s) 0.1387 алба / name ✓\n",
            "3060000 61% (86m 10s) 3.8970 ахалая / name ✗ (surname)\n",
            "3065000 61% (86m 18s) 0.2354 новоевская / surname ✓\n",
            "3070000 61% (86m 27s) 1.6679 яндолина / name ✗ (surname)\n",
            "3075000 61% (86m 35s) 5.0039 артшкола / surname ✗ (word)\n",
            "3080000 61% (86m 43s) 2.9228 мажуга / name ✗ (surname)\n",
            "3085000 61% (86m 52s) 3.2810 панаиоти / name ✗ (surname)\n",
            "3090000 61% (87m 0s) 0.0728 лучезарный / word ✓\n",
            "3095000 61% (87m 9s) 0.2305 азмет / name ✓\n",
            "3100000 62% (87m 17s) 0.8624 гонашвили / name ✗ (surname)\n",
            "3105000 62% (87m 26s) 0.0105 колкунцова / surname ✓\n",
            "3110000 62% (87m 35s) 0.7469 рымберг / surname ✓\n",
            "3115000 62% (87m 43s) 0.0890 плюшкина / surname ✓\n",
            "3120000 62% (87m 52s) 1.1105 киерстен / word ✗ (name)\n",
            "3125000 62% (88m 0s) 2.1573 люд / name ✗ (word)\n",
            "3130000 62% (88m 9s) 0.2151 крапильская / surname ✓\n",
            "3135000 62% (88m 17s) 0.2503 бракодельство / word ✓\n",
            "3140000 62% (88m 25s) 0.0249 федяйнова / surname ✓\n",
            "3145000 62% (88m 34s) 0.7119 дуплет / word ✓\n",
            "3150000 63% (88m 42s) 0.3504 чтирад / name ✓\n",
            "3155000 63% (88m 51s) 0.3528 ишлинская / surname ✓\n",
            "3160000 63% (88m 59s) 0.0125 приумолкать / word ✓\n",
            "3165000 63% (89m 8s) 0.4801 тюменчи / name ✓\n",
            "3170000 63% (89m 16s) 0.0750 хумам / name ✓\n",
            "3175000 63% (89m 24s) 0.0654 алтус / name ✓\n",
            "3180000 63% (89m 33s) 0.3967 джамаладдин / name ✓\n",
            "3185000 63% (89m 41s) 0.0100 жималенков / surname ✓\n",
            "3190000 63% (89m 50s) 0.0341 лимитрофный / word ✓\n",
            "3195000 63% (89m 58s) 0.0936 контарева / surname ✓\n",
            "3200000 64% (90m 7s) 1.4793 ковбой / word ✗ (name)\n",
            "3205000 64% (90m 15s) 0.0899 миря / name ✓\n",
            "3210000 64% (90m 23s) 0.0071 маклюкова / surname ✓\n",
            "3215000 64% (90m 32s) 2.0445 геллер / name ✗ (word)\n",
            "3220000 64% (90m 40s) 0.1269 минуть / word ✓\n",
            "3225000 64% (90m 49s) 0.0637 рисковой / word ✓\n",
            "3230000 64% (90m 57s) 2.1036 алгова / surname ✗ (name)\n",
            "3235000 64% (91m 6s) 0.0209 раийа / name ✓\n",
            "3240000 64% (91m 14s) 0.1256 явкашди / name ✓\n",
            "3245000 64% (91m 23s) 0.1335 вазеламова / surname ✓\n",
            "3250000 65% (91m 31s) 0.5039 бон / name ✓\n",
            "3255000 65% (91m 39s) 0.8442 докина / surname ✗ (name)\n",
            "3260000 65% (91m 48s) 0.7333 змеенок / word ✓\n",
            "3265000 65% (91m 57s) 0.0394 нашпилить / word ✓\n",
            "3270000 65% (92m 5s) 0.1692 евдакимов / surname ✓\n",
            "3275000 65% (92m 14s) 0.0038 перескакивать / word ✓\n",
            "3280000 65% (92m 22s) 0.0176 фадили / name ✓\n",
            "3285000 65% (92m 31s) 0.6556 евменитий / name ✓\n",
            "3290000 65% (92m 39s) 0.2647 умгайбат / name ✓\n",
            "3295000 65% (92m 47s) 1.5865 кяриз / name ✗ (word)\n",
            "3300000 66% (92m 56s) 0.7484 олиференко / surname ✓\n",
            "3305000 66% (93m 4s) 2.9283 шалыта / name ✗ (surname)\n",
            "3310000 66% (93m 13s) 0.0739 абушов / surname ✓\n",
            "3315000 66% (93m 21s) 0.0625 оловянный / word ✓\n",
            "3320000 66% (93m 30s) 1.0539 многомужество / surname ✗ (word)\n",
            "3325000 66% (93m 38s) 1.6636 инспекторский / surname ✗ (word)\n",
            "3330000 66% (93m 46s) 0.9532 пергамент / name ✗ (word)\n",
            "3335000 66% (93m 55s) 0.0351 повальцов / surname ✓\n",
            "3340000 66% (94m 3s) 0.0194 скрепиться / word ✓\n",
            "3345000 66% (94m 12s) 0.0296 карузманов / surname ✓\n",
            "3350000 67% (94m 20s) 0.0242 вольноопределяющийся / word ✓\n",
            "3355000 67% (94m 28s) 1.8396 евгаська / word ✗ (name)\n",
            "3360000 67% (94m 37s) 0.0604 похудение / word ✓\n",
            "3365000 67% (94m 45s) 1.6698 холуй / name ✗ (word)\n",
            "3370000 67% (94m 54s) 0.0110 брошюровать / word ✓\n",
            "3375000 67% (95m 2s) 2.7170 гегучадзе / word ✗ (surname)\n",
            "3380000 67% (95m 11s) 0.4399 крутизна / word ✓\n",
            "3385000 67% (95m 20s) 0.5484 арырун / name ✓\n",
            "3390000 67% (95m 28s) 0.1637 таскальщик / word ✓\n",
            "3395000 67% (95m 37s) 2.1026 динамо-машина / surname ✗ (word)\n",
            "3400000 68% (95m 45s) 0.7586 кутибашвили / name ✗ (surname)\n",
            "3405000 68% (95m 54s) 0.0031 ковченков / surname ✓\n",
            "3410000 68% (96m 2s) 0.5786 азарьянц / surname ✓\n",
            "3415000 68% (96m 11s) 0.2385 магруф / name ✓\n",
            "3420000 68% (96m 19s) 0.6459 тевон / name ✓\n",
            "3425000 68% (96m 27s) 0.4518 ганна / name ✓\n",
            "3430000 68% (96m 36s) 0.0266 безукладова / surname ✓\n",
            "3435000 68% (96m 44s) 1.1063 бабердина / name ✗ (surname)\n",
            "3440000 68% (96m 52s) 2.1662 полянин / surname ✗ (word)\n",
            "3445000 68% (97m 1s) 0.0045 абдулхаликов / surname ✓\n",
            "3450000 69% (97m 9s) 0.0258 джалюнов / surname ✓\n",
            "3455000 69% (97m 18s) 0.1861 адулбаев / surname ✓\n",
            "3460000 69% (97m 26s) 1.3694 язгуль / word ✗ (name)\n",
            "3465000 69% (97m 34s) 1.8137 крикуха / surname ✗ (word)\n",
            "3470000 69% (97m 43s) 0.1936 алхазов / surname ✓\n",
            "3475000 69% (97m 51s) 2.2999 пантеон / surname ✗ (word)\n",
            "3480000 69% (97m 59s) 0.2467 мельче / word ✓\n",
            "3485000 69% (98m 8s) 0.1849 финис / name ✓\n",
            "3490000 69% (98m 16s) 0.0600 оскалить / word ✓\n",
            "3495000 69% (98m 25s) 0.1800 чусова / surname ✓\n",
            "3500000 70% (98m 33s) 1.1426 иллирийский / surname ✗ (word)\n",
            "3505000 70% (98m 41s) 0.1074 алеодор / name ✓\n",
            "3510000 70% (98m 50s) 2.3170 распад / name ✗ (word)\n",
            "3515000 70% (98m 58s) 0.0691 ордова / surname ✓\n",
            "3520000 70% (99m 7s) 1.0811 садонин / name ✗ (surname)\n",
            "3525000 70% (99m 15s) 0.0942 коули / name ✓\n",
            "3530000 70% (99m 23s) 0.0724 джахфар / name ✓\n",
            "3535000 70% (99m 32s) 0.6668 репатриант / word ✓\n",
            "3540000 70% (99m 40s) 0.1010 иванова / surname ✓\n",
            "3545000 70% (99m 48s) 0.7649 первуха / name ✓\n",
            "3550000 71% (99m 57s) 1.2847 радехонек / name ✗ (word)\n",
            "3555000 71% (100m 5s) 0.0036 чипрякова / surname ✓\n",
            "3560000 71% (100m 13s) 0.1268 пяток / word ✓\n",
            "3565000 71% (100m 22s) 0.0190 патетичный / word ✓\n",
            "3570000 71% (100m 30s) 0.0082 пресытиться / word ✓\n",
            "3575000 71% (100m 38s) 0.4709 ивошина / surname ✓\n",
            "3580000 71% (100m 47s) 1.8774 марель / name ✗ (word)\n",
            "3585000 71% (100m 55s) 0.0453 лулф / name ✓\n",
            "3590000 71% (101m 4s) 3.3673 зулу / name ✗ (word)\n",
            "3595000 71% (101m 12s) 0.0134 вышкова / surname ✓\n",
            "3600000 72% (101m 21s) 0.2014 нагарев / surname ✓\n",
            "3605000 72% (101m 29s) 0.7868 василька / name ✓\n",
            "3610000 72% (101m 38s) 0.0007 напотчевать / word ✓\n",
            "3615000 72% (101m 46s) 0.9296 модельер / name ✗ (word)\n",
            "3620000 72% (101m 55s) 0.4548 бенья / name ✓\n",
            "3625000 72% (102m 4s) 0.6323 киношка / word ✓\n",
            "3630000 72% (102m 12s) 0.4591 камералистика / word ✓\n",
            "3635000 72% (102m 21s) 0.0619 мямшев / surname ✓\n",
            "3640000 72% (102m 29s) 0.0756 замбржицкая / surname ✓\n",
            "3645000 72% (102m 38s) 0.0512 повиднеть / word ✓\n",
            "3650000 73% (102m 46s) 0.6851 гусельник / word ✓\n",
            "3655000 73% (102m 55s) 0.0214 теплосиловой / word ✓\n",
            "3660000 73% (103m 3s) 3.9730 табасаран / name ✗ (word)\n",
            "3665000 73% (103m 12s) 1.3289 ядовито / name ✗ (word)\n",
            "3670000 73% (103m 20s) 0.1672 алфинора / name ✓\n",
            "3675000 73% (103m 29s) 0.6578 михно / name ✓\n",
            "3680000 73% (103m 37s) 0.3715 тахиржан / name ✓\n",
            "3685000 73% (103m 45s) 0.8645 тофич / surname ✗ (name)\n",
            "3690000 73% (103m 54s) 0.8241 задворина / surname ✓\n",
            "3695000 73% (104m 2s) 1.0862 валевина / name ✗ (surname)\n",
            "3700000 74% (104m 11s) 0.0185 трушакин / surname ✓\n",
            "3705000 74% (104m 19s) 0.6756 лекторша / word ✓\n",
            "3710000 74% (104m 28s) 0.0320 разживаться / word ✓\n",
            "3715000 74% (104m 37s) 0.5628 защелка / word ✓\n",
            "3720000 74% (104m 45s) 2.1079 подъяблонский / word ✗ (surname)\n",
            "3725000 74% (104m 54s) 0.3996 анаянси / name ✓\n",
            "3730000 74% (105m 3s) 3.0311 рокада / name ✗ (word)\n",
            "3735000 74% (105m 11s) 1.6547 доммин / name ✗ (surname)\n",
            "3740000 74% (105m 19s) 0.1063 химани / name ✓\n",
            "3745000 74% (105m 28s) 0.0690 шингалиева / surname ✓\n",
            "3750000 75% (105m 37s) 0.0255 горельникова / surname ✓\n",
            "3755000 75% (105m 45s) 0.0557 бараат / name ✓\n",
            "3760000 75% (105m 54s) 0.0315 алоди / name ✓\n",
            "3765000 75% (106m 2s) 0.1534 идина / name ✓\n",
            "3770000 75% (106m 11s) 0.2284 фрося / name ✓\n",
            "3775000 75% (106m 19s) 0.4888 сутяжничество / word ✓\n",
            "3780000 75% (106m 28s) 0.2111 убойный / word ✓\n",
            "3785000 75% (106m 36s) 0.4297 разварка / word ✓\n",
            "3790000 75% (106m 45s) 0.2850 янмирза / name ✓\n",
            "3795000 75% (106m 53s) 0.3311 матси / name ✓\n",
            "3800000 76% (107m 2s) 0.9727 цитолиз / name ✗ (word)\n",
            "3805000 76% (107m 11s) 0.6958 григорин / name ✓\n",
            "3810000 76% (107m 19s) 0.6512 беневша / name ✓\n",
            "3815000 76% (107m 28s) 0.1831 ламиса / name ✓\n"
          ],
          "name": "stdout"
        }
      ]
    },
    {
      "cell_type": "code",
      "metadata": {
        "id": "Kx9UZiMCX10q"
      },
      "source": [
        "import matplotlib.pyplot as plt\n",
        "import matplotlib.ticker as ticker\n",
        "%matplotlib inline\n",
        "\n",
        "plt.figure()\n",
        "plt.plot(all_losses)"
      ],
      "execution_count": null,
      "outputs": []
    },
    {
      "cell_type": "code",
      "metadata": {
        "colab": {
          "base_uri": "https://localhost:8080/",
          "height": 340
        },
        "id": "tkvBkEoZZBxI",
        "outputId": "c6c1cddb-5698-49cf-ff22-241efd0a78f9"
      },
      "source": [
        "# Keep track of correct guesses in a confusion matrix\n",
        "confusion = torch.zeros(n_categories, n_categories)\n",
        "n_confusion = 10000\n",
        "\n",
        "# Just return an output given a line\n",
        "def evaluate(line_tensor):\n",
        "    hidden = rnn.init_hidden()\n",
        "    \n",
        "    for i in range(line_tensor.size()[0]):\n",
        "        output, hidden = rnn(line_tensor[i], hidden)\n",
        "    \n",
        "    return output\n",
        "\n",
        "# Go through a bunch of examples and record which are correctly guessed\n",
        "for i in range(n_confusion):\n",
        "    category, line, category_tensor, line_tensor = random_training_pair()\n",
        "    output = evaluate(line_tensor)\n",
        "    guess, guess_i = category_from_output(output)\n",
        "    category_i = all_categories.index(category)\n",
        "    confusion[category_i][guess_i] += 1\n",
        "\n",
        "# Normalize by dividing every row by its sum\n",
        "for i in range(n_categories):\n",
        "    confusion[i] = confusion[i] / confusion[i].sum()\n",
        "\n",
        "# Set up plot\n",
        "fig = plt.figure()\n",
        "ax = fig.add_subplot(111)\n",
        "cax = ax.matshow(confusion.numpy())\n",
        "fig.colorbar(cax)\n",
        "\n",
        "# Set up axes\n",
        "ax.set_xticklabels([''] + all_categories, rotation=90)\n",
        "ax.set_yticklabels([''] + all_categories)\n",
        "\n",
        "# Force label at every tick\n",
        "ax.xaxis.set_major_locator(ticker.MultipleLocator(1))\n",
        "ax.yaxis.set_major_locator(ticker.MultipleLocator(1))\n",
        "\n",
        "plt.show()"
      ],
      "execution_count": null,
      "outputs": [
        {
          "output_type": "stream",
          "text": [
            "/usr/local/lib/python3.7/dist-packages/ipykernel_launcher.py:20: UserWarning: Implicit dimension choice for log_softmax has been deprecated. Change the call to include dim=X as an argument.\n"
          ],
          "name": "stderr"
        },
        {
          "output_type": "display_data",
          "data": {
            "image/png": "[encoded data removed]",
            "text/plain": [
              "<Figure size 432x288 with 2 Axes>"
            ]
          },
          "metadata": {
            "tags": [],
            "needs_background": "light"
          }
        }
      ]
    },
    {
      "cell_type": "code",
      "metadata": {
        "colab": {
          "base_uri": "https://localhost:8080/"
        },
        "id": "V4W_jHy4ZD8X",
        "outputId": "b5710e30-f41a-4b92-81b9-fd066e316a3f"
      },
      "source": [
        "def predict(input_line, n_predictions=3):\n",
        "    print('\\n> %s' % input_line)\n",
        "    output = evaluate(Variable(line_to_tensor(input_line)))\n",
        "\n",
        "    # Get top N categories\n",
        "    topv, topi = output.data.topk(n_predictions, 1, True)\n",
        "    predictions = []\n",
        "\n",
        "    for i in range(n_predictions):\n",
        "        value = topv[0][i]\n",
        "        category_index = topi[0][i]\n",
        "        print('(%.2f) %s' % (value, all_categories[category_index]))\n",
        "        predictions.append([value, all_categories[category_index]])\n",
        "\n",
        "predict('алмат')\n",
        "predict('стол')\n",
        "predict('абаев')"
      ],
      "execution_count": null,
      "outputs": [
        {
          "output_type": "stream",
          "text": [
            "\n",
            "> алмат\n",
            "(-0.05) name\n",
            "(-3.02) word\n",
            "(-5.74) surname\n",
            "\n",
            "> стол\n",
            "(-0.28) word\n",
            "(-1.40) name\n",
            "(-6.31) surname\n",
            "\n",
            "> абаев\n",
            "(-0.46) surname\n",
            "(-1.00) name\n",
            "(-5.70) word\n"
          ],
          "name": "stdout"
        },
        {
          "output_type": "stream",
          "text": [
            "/usr/local/lib/python3.7/dist-packages/ipykernel_launcher.py:20: UserWarning: Implicit dimension choice for log_softmax has been deprecated. Change the call to include dim=X as an argument.\n"
          ],
          "name": "stderr"
        }
      ]
    }
  ]
}